{
 "cells": [
  {
   "cell_type": "markdown",
   "metadata": {},
   "source": [
    "# Template for Fine-Tuning Classification with LLaMA through Low-Ranking Adapters"
   ]
  },
  {
   "cell_type": "markdown",
   "metadata": {},
   "source": [
    "### Import all Modules"
   ]
  },
  {
   "cell_type": "code",
   "execution_count": null,
   "metadata": {},
   "outputs": [],
   "source": [
    "#IMPORTANT - to ensure package loading, first add the path of the utils folder to your system path\n",
    "#import sys\n",
    "#sys.path.append('c:\\\\Users\\\\maria\\\\OneDrive\\\\Documents\\\\GitHub\\\\DigDemLab\\\\LLM-Comparisons_repo\\\\OpenSource-LLM-Practitioner-Guide\\\\src\\\\utils')"
   ]
  },
  {
   "cell_type": "code",
   "execution_count": null,
   "metadata": {},
   "outputs": [],
   "source": [
    "import os\n",
    "import gc\n",
    "import time\n",
    "\n",
    "import tqdm\n",
    "from transformers import (AutoTokenizer, DataCollatorForSeq2Seq,\n",
    "                          LlamaForCausalLM, BitsAndBytesConfig, TrainingArguments, GenerationConfig)\n",
    "import pandas as pd\n",
    "import torch\n",
    "import numpy as np\n",
    "import random\n",
    "from peft import prepare_model_for_kbit_training, LoraConfig, get_peft_model, PeftModel\n",
    "import wandb\n",
    "from trl import SFTTrainer\n",
    "\n",
    "from dataload_utils import load_train_and_eval_datasets, load_dataset_task_prompt_mappings"
   ]
  },
  {
   "cell_type": "markdown",
   "metadata": {},
   "source": [
    "### Setup Arguments and Data"
   ]
  },
  {
   "cell_type": "markdown",
   "metadata": {},
   "source": [
    " In the following code block, you are asked to set up several key parameters that will define the behavior and environment of your fine-tuning process:\n",
    "\n",
    "1. **WandB Project Name (`WANDB_PROJECT_NAME`)**: This is the name of the project in Weights & Biases (WandB) where your training run will be logged. WandB is a tool that helps track experiments, visualize data, and share insights. By setting the project name here, you ensure that all the metrics, outputs, and logs from your training process are organized under a single project for easy access and comparison. Specify a meaningful name that reflects the nature of your training session or experiment. If you leave the argument empty, the project will not be tracked on WandB.\n",
    "\n",
    "2. **Model Name (`MODEL_NAME`)**: Here, you select the size of LLAMA model that you wish to fine-tune. This notebook was ran and tested on (`meta-llama/Llama-2-70b-chat-hf`, `meta-llama/Llama-2-13b-chat-hf` and `OASST-LLAMA 30b` (not available on HuggingFace anymore)).\n"
   ]
  },
  {
   "cell_type": "code",
   "execution_count": null,
   "metadata": {},
   "outputs": [],
   "source": [
    "module_dir = os.path.dirname(os.path.abspath(__file__))\n",
    "WANDB_PROJECT_NAME = \"llama2_annotations_llm_comparison\"\n",
    "# Name of the model to finetune (this script was tested on LLAMA-2 70b, LLAMA-2 13b, and OASST-LLAMA 30b)\n",
    "MODEL_NAME = \"meta-llama/Llama-2-70b-chat-hf\""
   ]
  },
  {
   "cell_type": "markdown",
   "metadata": {},
   "source": [
    "In order to run LLAMA-2 models, you need to register yourself at the HuggingFace model page (https://huggingface.co/meta-llama/Llama-2-70b-chat-hf). Then, you can either insert the token here (not recommended if sharing a repository on GitHub), or input it in the hf_token.txt as done here and ensure it is included in the .gitignore."
   ]
  },
  {
   "cell_type": "code",
   "execution_count": null,
   "metadata": {},
   "outputs": [],
   "source": [
    "with open(os.path.join(module_dir, \"hf_token.txt\"), \"r\") as file:\n",
    "    hf_token = file.read().strip()"
   ]
  },
  {
   "cell_type": "markdown",
   "metadata": {},
   "source": [
    "This is an optional parameter to run if your default transformers cache location does not contain enough storage to load the LLAMA models. Otherwise, you can keep it as is."
   ]
  },
  {
   "cell_type": "code",
   "execution_count": null,
   "metadata": {},
   "outputs": [],
   "source": [
    "#cache_location = os.environ['HF_HOME']\n",
    "cache_location = \"your/path/to/large/storage\"\n",
    "\n",
    "os.environ['TRANSFORMERS_CACHE'] = cache_location\n",
    "os.environ['HF_HOME'] = cache_location"
   ]
  },
  {
   "cell_type": "markdown",
   "metadata": {},
   "source": [
    "In the next code block, you are required to set up various configuration variables that will dictate how the inference processes are executed. These variables are crucial as they define the nature of the task, the data, and the specific behaviors during the model's training and evaluation.\n",
    "\n",
    "1. **Task (`task`)**: Specify the type of task you want to run inference on. The task is represented by an integer, with each number corresponding to a different type of task (e.g., 1, 2, 3, etc.). You must select from the predefined choices, which are typically mapped to specific NLP tasks or scenarios.\n",
    "\n",
    "2. **Dataset (`dataset`)**: Choose the dataset on which you want to run inference. Like tasks, datasets are identified by integers, and each number corresponds to a different dataset. Ensure that the dataset selected is relevant to the task at hand.\n",
    "\n",
    "3. **Output Directory (`output_dir`)**: Define the path to the directory where you want to store the generated samples. This is where the output of your training and inference processes will be saved.\n",
    "\n",
    "4. **Model Directory (`model_dir`)**: Define the path to the directory where you want to store the generated models. This should have sufficient memory.\n",
    "\n",
    "5. **Llama-2 Prompt** (`use_llama2_prompt`)**: Keep True if running LLAMA-2 models (provides correct prompts with system and user message separated). Set False if running OASST models.\n",
    "\n",
    "6. **Division Line for User Message** (`system_user_prompt_division_line`)**: Length in number of lines of the user message. Relevant only for LLAMA-2 models.\n",
    "\n",
    "7. **Random Seed (`seed`)**: Setting a random seed ensures that the results are reproducible. By using the same seed, you can achieve the same outcomes on repeated runs under identical conditions.\n",
    "\n",
    "8. **Data Directory (`data_dir`)**: Specify the path to the directory containing the datasets you plan to use for training and evaluation.\n",
    "\n",
    "9. **Label Usage (`not_use_full_labels`)**: This boolean variable determines whether to use the full label descriptions or abbreviated labels during training and inference. Setting it to `False` means full labels will be used.\n",
    "\n",
    "10. **Dataset-Task Mappings File Path (`dataset_task_mappings_fp`)**: Define the path to the file containing mappings between datasets and tasks. This file is crucial for ensuring the correct dataset is used for the specified task.\n",
    "\n",
    "11. **Number of Epochs (`n_epochs`)**: Specify the number of epochs for training the model. An epoch refers to one complete pass through the entire training dataset.\n",
    "\n",
    "12. **Batch size (`batch-size`)**: Number of observations used in each training and validation batch. Larger batch size requires more computational memory as one batch needs to fit on one machine, but makes learning more stable. We found that for FLAN-XL, batch size of 8 was possible by taking batch size of 4 and accumulating results of 2 batches (see  (`gradient_accumulation_steps`) below)\n",
    "\n",
    "13. **Gradient accumulation steps (`gradient_accumulation_steps`)**: In a case where gradient accumulation steps is larger than 1, instead of updating the gradient after each batch, the gradient is updated after the sum of _n_ batches. This allows to train a model to learn on a larger global batch (_batch size_ * _gradient accumulation steps_) than the one that is able to fit on one machine.\n",
    "\n",
    "14. **Run_name (`run_name`)**: Optional run_name to store in WandB. We recommend to keep it null, which generates an automatic run name based on all the relevant parameters of finetuning for easier tracking. \n",
    "\n",
    "15. **Maximum output length (`max_new_tokens`)**: Maximum length of prediction produced by LLAMA. For data labelling, it does not make sense to make it longer than that. \n",
    "\n",
    "16. **LoRA hyperparameters:** The values provided below were taken from Stanford Alpaca LoRA repository: https://github.com/tloen/alpaca-lora/blob/main/finetune.py.\n"
   ]
  },
  {
   "cell_type": "code",
   "execution_count": null,
   "metadata": {},
   "outputs": [],
   "source": [
    "# Configuration Variables\n",
    "\n",
    "# Type of task to run inference on\n",
    "task = 1  # Choices: [1,2,3,4,5,6]\n",
    "\n",
    "# Dataset to run inference on\n",
    "dataset = 1  # Choices: [1, 2, 3, 4]\n",
    "\n",
    "# Size of the sample to generate\n",
    "sample_size = '250'  # Choices: ['50','100','250','500','1000','1500']\n",
    "\n",
    "# Path to the directory to store the generated predictions\n",
    "output_dir = '../../data'\n",
    "\n",
    "# Path to the directory to store the models (make sure this location is included in the .gitignore if using GitHub)\n",
    "model_dir = '../../data'\n",
    "\n",
    "#If using LLAMA2, keep True. Set False only for OASST-LLAMA.\n",
    "use_llama2_prompt = True\n",
    "\n",
    "#This is relevant for LLAMA2, where the system and user message are separated by context tokens. You should count how many lines your user message takes (in this case, 3)\n",
    "system_user_prompt_division_line = 3\n",
    "\n",
    "# Random seed to use\n",
    "seed = 2019\n",
    "\n",
    "# Path to the directory containing the datasets\n",
    "data_dir = '../../data'\n",
    "\n",
    "# Whether to use the full label\n",
    "not_use_full_labels = False\n",
    "\n",
    "# Path to the dataset-task mappings file\n",
    "dataset_task_mappings_fp = os.path.normpath(os.path.join(module_dir, '..', 'dataset_task_mappings.csv'))\n",
    "\n",
    "#Maximum length of prompt to be taken by the model as input (check documentation for current maximum length)\n",
    "max_prompt_len = 4096\n",
    "\n",
    "# Number of epochs to train the model\n",
    "n_epochs = 3\n",
    "\n",
    "# Batch size\n",
    "batch_size = 4\n",
    "\n",
    "#Gradient accumulation steps\n",
    "gradient_accumulation_steps = 2\n",
    "\n",
    "#run name - Optional Argument if you want it to be called something else than the default way (defined below)\n",
    "run_name = \"\"\n",
    "\n",
    "#maximum length of sequence to produce\n",
    "max_new_tokens = 100\n",
    "\n",
    "### LoRA Configuration parameters (Values below taken from Stanford Alpaca LoRA repository : https://github.com/tloen/alpaca-lora/blob/main/finetune.py))\n",
    "lora_config_alpha = 32                          #alpha parameter for LoRA scaling\n",
    "lora_config_dropout = 0.05                      #dropout probability of LoRA layers\n",
    "lora_config_r = 16                              #rank of a LoRA module (decrease for lower GPU usage)\n",
    "lora_config_no_target_modules = False           #currently targets Q and V layers like in Alpaca LoRA, setting True targets all layers and requires more memory\n",
    "\n",
    "#Text Generation parameters (Values below taken from Stanford Alpaca LoRA repository : https://github.com/tloen/alpaca-lora/blob/main/generate.py)\n",
    "temp = 0.05                                     \n",
    "top_p = 0.75      \n",
    "top_k = 40"
   ]
  },
  {
   "cell_type": "code",
   "execution_count": null,
   "metadata": {},
   "outputs": [],
   "source": [
    "train_set_name = f'ds_{dataset}__task_{task}_train_set_{sample_size}'\n",
    "eval_set_name = f'ds_{dataset}__task_{task}_eval_set'"
   ]
  },
  {
   "cell_type": "markdown",
   "metadata": {},
   "source": [
    "**Customizing for Your Own Tasks:**\n",
    "If you plan to run a custom task or use a dataset that is not predefined, you will need to make modifications to the `label_utils` file. This file contains all mappings for different datasets and tasks. Adding your custom task or dataset involves defining the new task or dataset number and specifying its characteristics and mappings in the `label_utils` file. This ensures that your custom task or dataset integrates seamlessly with the existing framework for training and inference."
   ]
  },
  {
   "cell_type": "markdown",
   "metadata": {},
   "source": [
    "### Define Utility Functions"
   ]
  },
  {
   "cell_type": "code",
   "execution_count": null,
   "metadata": {},
   "outputs": [],
   "source": [
    "def tokenize(element, tokenizer, dataset_text_field, max_seq_len, batch_size):\n",
    "    outputs = tokenizer(\n",
    "        element[dataset_text_field],\n",
    "        truncation=True,\n",
    "        padding=False,\n",
    "        max_length=max_seq_len,\n",
    "        return_overflowing_tokens=False,\n",
    "        return_length=False,\n",
    "        return_tensors=\"pt\"\n",
    "    )\n",
    "\n",
    "    data_collator = DataCollatorForSeq2Seq(\n",
    "        tokenizer,\n",
    "        padding='longest',\n",
    "        pad_to_multiple_of=batch_size\n",
    "    )\n",
    "\n",
    "    data_collator.collate_batch([outputs])\n",
    "\n",
    "    return {\"input_ids\": outputs[\"input_ids\"], \"attention_mask\": outputs[\"attention_mask\"]}\n"
   ]
  },
  {
   "cell_type": "markdown",
   "metadata": {},
   "source": [
    "### Define Utility Functions"
   ]
  },
  {
   "cell_type": "code",
   "execution_count": null,
   "metadata": {},
   "outputs": [],
   "source": [
    "def print_trainable_parameters(model):\n",
    "        \"\"\"\n",
    "        Prints the number of trainable parameters in the model.\n",
    "        \"\"\"\n",
    "        trainable_params = 0\n",
    "        all_param = 0\n",
    "        for _, param in model.named_parameters():\n",
    "            all_param += param.numel()\n",
    "            if param.requires_grad:\n",
    "                trainable_params += param.numel()\n",
    "        print(\n",
    "            f\"trainable params: {trainable_params} || all params: {all_param} || trainable%: {100 * trainable_params / all_param}\"\n",
    "        )"
   ]
  },
  {
   "cell_type": "code",
   "execution_count": null,
   "metadata": {},
   "outputs": [],
   "source": [
    "def set_all_seeds(seed: int = 123):\n",
    "    # tf.random.set_seed(123)\n",
    "    torch.manual_seed(seed)\n",
    "    random.seed(seed)\n",
    "    np.random.seed(seed)\n",
    "    torch.cuda.manual_seed(seed)\n",
    "    torch.cuda.manual_seed_all(seed)\n",
    "\n",
    "    # When running on the CuDNN backend, two further options must be set\n",
    "    torch.backends.cudnn.deterministic = True\n",
    "    torch.backends.cudnn.benchmark = False\n",
    "\n",
    "    # Set a fixed value for the hash seed\n",
    "    os.environ[\"PYTHONHASHSEED\"] = str(seed)\n",
    "\n",
    "    # Set seed with the `transformers` library\n",
    "    # set_seed(seed)"
   ]
  },
  {
   "cell_type": "markdown",
   "metadata": {},
   "source": [
    "## Main Implementation"
   ]
  },
  {
   "cell_type": "code",
   "execution_count": null,
   "metadata": {},
   "outputs": [],
   "source": [
    "exp_name = run_name if run_name != '' else f'{MODEL_NAME}_ds_{dataset}_task_{int(task)}_sample_{sample_size}_epochs_{n_epochs}_prompt_max_len_{max_prompt_len}_batch_size_{batch_size}_grad_acc_{gradient_accumulation_steps}'\n",
    "exp_name = exp_name.replace('.', '_')\n",
    "\n",
    "# Initialize the Weights and Biases run\n",
    "if WANDB_PROJECT_NAME != \"\":\n",
    "    wandb.init(\n",
    "        # set the wandb project where this run will be logged\n",
    "        project=WANDB_PROJECT_NAME,\n",
    "        name=exp_name,\n",
    "        # track hyperparameters and run metadata\n",
    "        config={\n",
    "            \"model\": MODEL_NAME,\n",
    "            \"dataset\": dataset,\n",
    "            \"task\": task,\n",
    "            \"epochs\": n_epochs,\n",
    "            \"max_prompt_len\": max_prompt_len,\n",
    "            \"batch_size\": batch_size,\n",
    "            \"gradient_accumulation_steps\": gradient_accumulation_steps\n",
    "        }\n",
    "    )"
   ]
  },
  {
   "cell_type": "code",
   "execution_count": null,
   "metadata": {},
   "outputs": [],
   "source": [
    "if not_use_full_labels:\n",
    "    exp_name += '_label_abbreviation'\n",
    "    labelset_col = 'labelset'\n",
    "else:\n",
    "    labelset_col = 'labelset_fullword'"
   ]
  },
  {
   "cell_type": "code",
   "execution_count": null,
   "metadata": {},
   "outputs": [],
   "source": [
    "print('Running exp:', exp_name)"
   ]
  },
  {
   "cell_type": "markdown",
   "metadata": {},
   "source": [
    "### Load Data and the prompt"
   ]
  },
  {
   "cell_type": "code",
   "execution_count": null,
   "metadata": {},
   "outputs": [],
   "source": [
    "prompt_col = 'zero_shot_prompt'\n",
    "# Load the prompt\n",
    "dataset_idx, dataset_task_mappings = load_dataset_task_prompt_mappings(\n",
    "    dataset_num=dataset, task_num=task, dataset_task_mappings_fp=dataset_task_mappings_fp)\n",
    "\n",
    "# Get information specific to the dataset\n",
    "label_column = dataset_task_mappings.loc[dataset_idx, \"label_column\"]\n",
    "labelset = dataset_task_mappings.loc[dataset_idx, labelset_col].split(\"; \")\n",
    "labelset = [label.strip() for label in labelset]\n",
    "prompt = dataset_task_mappings.loc[dataset_idx, prompt_col]\n",
    "\n",
    "# Get the system or instruction prompt and the user prompt format\n",
    "system_prompt = ('\\n'.join(prompt.split('\\n')[:-system_user_prompt_division_line])).strip()\n",
    "user_prompt_format = ('\\n'.join(prompt.split('\\n')[-system_user_prompt_division_line:])).strip()\n",
    "\n",
    "# Log the system prompt and user_prompt_format as files in wandb\n",
    "if WANDB_PROJECT_NAME != \"\":\n",
    "    prompts_artifact = wandb.Artifact('prompts', type='prompts')\n",
    "    with prompts_artifact.new_file('system_prompt.txt', mode='w') as f:\n",
    "        f.write(system_prompt)\n",
    "    with prompts_artifact.new_file('user_prompt_format.txt', mode='w') as f:\n",
    "        f.write(user_prompt_format)\n",
    "    wandb.run.log_artifact(prompts_artifact)\n",
    "\n",
    "# Load the train and eval datasets with the full prompt format\n",
    "print(f'label_columns: {label_column}')\n",
    "print(f'labelset: {labelset}')\n",
    "\n",
    "datasets = load_train_and_eval_datasets(\n",
    "    data_dir=data_dir, eval_set_name=eval_set_name, train_set_name=train_set_name, task_num = task,\n",
    "    label_column=label_column, labelset=labelset, full_label=not not_use_full_labels,\n",
    "    sample_size=sample_size, system_prompt=system_prompt, user_prompt_format=user_prompt_format,\n",
    "    llama_2=use_llama2_prompt, zero_shot_full_dataset=False\n",
    ")"
   ]
  },
  {
   "cell_type": "code",
   "execution_count": null,
   "metadata": {},
   "outputs": [],
   "source": [
    "# Print examples from train set, eval set and evalset without completion\n",
    "print(f\"Train set example with completion ({len(datasets['train'])} rows): \")\n",
    "print(\"-\" * 50 + '\\n')\n",
    "print(datasets[\"train\"][\"text\"][0])\n",
    "print('\\n\\n')\n",
    "\n",
    "print(f\"Eval set example with completion ({len(datasets['eval'])} rows): \")\n",
    "print(\"-\" * 50 + '\\n')\n",
    "print(datasets[\"eval\"][\"text\"][0])\n",
    "print('\\n\\n')\n",
    "\n",
    "print(f\"Eval set without completion ({len(datasets['eval_wo_completion'])} rows): \")\n",
    "print(\"-\" * 50 + '\\n')\n",
    "print(datasets[\"eval_wo_completion\"][\"text\"][0])\n",
    "print('\\n\\n')"
   ]
  },
  {
   "cell_type": "markdown",
   "metadata": {},
   "source": [
    "### Define the model, tokenizers, data collator"
   ]
  },
  {
   "cell_type": "code",
   "execution_count": null,
   "metadata": {},
   "outputs": [],
   "source": [
    "# Load the tokenizer\n",
    "tokenizer = AutoTokenizer.from_pretrained(MODEL_NAME, truncation_side=\"left\", use_fast=False, token=hf_token, cache_dir = \"../cache\")\n",
    "tokenizer.pad_token = tokenizer.eos_token\n",
    "tokenizer.padding_side = \"right\"\n",
    "\n",
    "# Load the model\n",
    "use_4bit = True                         # Activate 4-bit precision base model loading\n",
    "bnb_4bit_compute_dtype = \"float16\"      # Compute dtype for 4-bit base models\n",
    "bnb_4bit_quant_type = \"nf4\"             # Quantization type (fp4 or nf4)\n",
    "use_nested_quant = False                # Activate nested quantization for 4-bit base models (double quantization)\n",
    "\n",
    "compute_dtype = getattr(torch, bnb_4bit_compute_dtype)\n",
    "bnb_config = BitsAndBytesConfig(\n",
    "    load_in_4bit=use_4bit,\n",
    "    bnb_4bit_quant_type=bnb_4bit_quant_type,\n",
    "    bnb_4bit_compute_dtype=compute_dtype,\n",
    "    bnb_4bit_use_double_quant=use_nested_quant,\n",
    ")\n",
    "\n",
    "model = LlamaForCausalLM.from_pretrained(MODEL_NAME, quantization_config=bnb_config,\n",
    "                                            device_map=\"auto\", token=hf_token, cache_dir = \"../cache\")"
   ]
  },
  {
   "cell_type": "markdown",
   "metadata": {},
   "source": [
    "### Prepare the model for training"
   ]
  },
  {
   "cell_type": "code",
   "execution_count": null,
   "metadata": {},
   "outputs": [],
   "source": [
    "# Add the adapter with the PeFT library\n",
    "model = prepare_model_for_kbit_training(model)\n",
    "\n",
    "lora_config = LoraConfig(\n",
    "    r=lora_config_r, lora_alpha=lora_config_alpha, lora_dropout=lora_config_dropout,\n",
    "    bias=\"none\", task_type=\"CAUSAL_LM\",\n",
    "    target_modules=[\"q_proj\", \"v_proj\"] if not lora_config_no_target_modules else None\n",
    ")\n",
    "model = get_peft_model(model, lora_config)\n",
    "print_trainable_parameters(model)\n",
    "\n",
    "path_model_dir = os.path.join(model_dir, exp_name)\n",
    "\n",
    "# Define training args\n",
    "fp16 = False\n",
    "bf16 = True  # set bf16 to True with an A100\n",
    "training_args = TrainingArguments(\n",
    "    output_dir=model_dir,\n",
    "    num_train_epochs=n_epochs,\n",
    "    load_best_model_at_end=False,\n",
    "    per_device_train_batch_size=batch_size,\n",
    "    per_device_eval_batch_size=batch_size,\n",
    "    save_strategy=\"epoch\",\n",
    "    gradient_accumulation_steps=gradient_accumulation_steps,\n",
    "    fp16=fp16,\n",
    "    bf16=bf16,\n",
    "    report_to=[\"wandb\"] if WANDB_PROJECT_NAME != \"\" else None\n",
    ")\n",
    "\n",
    "# Create Trainer instance\n",
    "trainer = SFTTrainer(\n",
    "    model=model,\n",
    "    tokenizer=tokenizer,\n",
    "    args=training_args,\n",
    "    max_seq_length=max_prompt_len,\n",
    "    train_dataset=datasets[\"train\"],\n",
    "    dataset_text_field=\"text\",\n",
    ")"
   ]
  },
  {
   "cell_type": "markdown",
   "metadata": {},
   "source": [
    "### Train the model"
   ]
  },
  {
   "cell_type": "code",
   "execution_count": null,
   "metadata": {},
   "outputs": [],
   "source": [
    "trainer.train()\n",
    "trainer.save_model(path_model_dir)\n",
    "\n",
    "del trainer\n",
    "del model\n",
    "\n",
    "# Run garbage collector and empty cache manually\n",
    "torch.cuda.empty_cache()\n",
    "gc.collect()\n",
    "time.sleep(10)\n",
    "\n",
    "print(\"Merging LoRA weights...\")\n",
    "\n",
    "# Load base LLM model\n",
    "llama_model = LlamaForCausalLM.from_pretrained(\n",
    "    MODEL_NAME,\n",
    "    torch_dtype=torch.float16,\n",
    "    device_map='auto',\n",
    "    token=hf_token,\n",
    "    cache_dir = \"../cache\"\n",
    ")\n",
    "\n",
    "# It needs enough memory to load it in 16 bit, a little over 80GB, so more than 1 A100\n",
    "model = PeftModel.from_pretrained(\n",
    "    llama_model,\n",
    "    path_model_dir,\n",
    "    torch_dtype=torch.float16,\n",
    ")\n",
    "\n",
    "# Merge LoRA and base model\n",
    "merged_model_path = os.path.join(path_model_dir, \"merged_model\")\n",
    "print(f\"saving model merged with adapters in: {merged_model_path}\")\n",
    "model = model.merge_and_unload()\n",
    "model.save_pretrained(merged_model_path, safe_serialization=True)\n",
    "\n",
    "# Free up memory\n",
    "del llama_model\n",
    "del model\n",
    "torch.cuda.empty_cache()\n",
    "gc.collect()\n",
    "time.sleep(10)\n",
    "\n",
    "# Reload the model in its quantized version\n",
    "model = LlamaForCausalLM.from_pretrained(\n",
    "    merged_model_path, quantization_config=bnb_config, device_map=\"auto\", token=hf_token)"
   ]
  },
  {
   "cell_type": "markdown",
   "metadata": {},
   "source": [
    "### Evaluate the model"
   ]
  },
  {
   "cell_type": "code",
   "execution_count": null,
   "metadata": {},
   "outputs": [],
   "source": [
    "tokenizer = AutoTokenizer.from_pretrained(MODEL_NAME, truncation_side=\"left\", use_fast=False, token=hf_token)\n",
    "# tokenizer.pad_token = tokenizer.unk_token         # Uncomment if using UNK as padding token for batched inference\n",
    "# tokenizer.padding_side = \"left\"                   # Uncomment for batched inference\n",
    "\n",
    "# Default params from alpaca-lora generate script (commonly used)\n",
    "generation_config = GenerationConfig(\n",
    "    temperature=temp,\n",
    "    top_p=top_p,\n",
    "    top_k=top_k,\n",
    "    do_sample=True,\n",
    "    max_new_tokens=max_new_tokens\n",
    ")\n",
    "\n",
    "with torch.no_grad():\n",
    "    predictions_out = []\n",
    "    for i, input_text_i in tqdm.tqdm(enumerate(datasets[\"eval_wo_completion\"][\"text\"])):\n",
    "        # Tokenize the text\n",
    "        tokenized_text_i = tokenizer(\n",
    "            text_target=input_text_i,\n",
    "            padding=False,\n",
    "            max_length=max_prompt_len,\n",
    "            truncation=True,\n",
    "            return_tensors=\"pt\"\n",
    "        )\n",
    "\n",
    "        # Generate the completions\n",
    "        outputs = model.generate(\n",
    "            input_ids=tokenized_text_i[\"input_ids\"].cuda(),\n",
    "            generation_config=generation_config\n",
    "        )\n",
    "\n",
    "        generated_text_minibatch = tokenizer.batch_decode(\n",
    "            outputs, skip_special_tokens=True, clean_up_tokenization_spaces=True\n",
    "        )\n",
    "\n",
    "        predictions_out += generated_text_minibatch\n",
    "\n",
    "        if i == 0:\n",
    "            print(\"Sample prediction: \")\n",
    "            print(predictions_out[0])"
   ]
  },
  {
   "cell_type": "code",
   "execution_count": null,
   "metadata": {},
   "outputs": [],
   "source": [
    "predictions_dir = os.path.join(output_dir, 'predictions', os.path.basename(MODEL_NAME),\n",
    "                                exp_name.replace(\"/\", \"_\"))\n",
    "os.makedirs(predictions_dir, exist_ok=True)\n",
    "eval_df = pd.read_csv(os.path.join(data_dir, f\"{eval_set_name}.csv\"))\n",
    "eval_df['prediction_ds'] = predictions_out"
   ]
  },
  {
   "cell_type": "code",
   "execution_count": null,
   "metadata": {},
   "outputs": [],
   "source": [
    "eval_df.to_csv(os.path.join(predictions_dir, f'{exp_name.replace(\"/\", \"_\")}.csv'))"
   ]
  },
  {
   "cell_type": "markdown",
   "metadata": {},
   "source": [
    "### Terminate WandB"
   ]
  },
  {
   "cell_type": "code",
   "execution_count": null,
   "metadata": {},
   "outputs": [],
   "source": [
    "if WANDB_PROJECT_NAME != \"\":\n",
    "    wandb.finish()"
   ]
  }
 ],
 "metadata": {
  "language_info": {
   "name": "python"
  }
 },
 "nbformat": 4,
 "nbformat_minor": 2
}
