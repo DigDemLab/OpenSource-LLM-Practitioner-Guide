{
 "cells": [
  {
   "cell_type": "markdown",
   "id": "2e33e3e52454241b",
   "metadata": {
    "collapsed": false
   },
   "source": [
    "# Template for Zero-shot/Few-shot Classification with FLAN through Low-Ranking Adapters"
   ]
  },
  {
   "cell_type": "markdown",
   "id": "06c444b1",
   "metadata": {},
   "source": []
  },
  {
   "cell_type": "markdown",
   "id": "41710ff8",
   "metadata": {},
   "source": [
    "### Import all Modules"
   ]
  },
  {
   "cell_type": "code",
   "execution_count": null,
   "id": "58a44e878ea21b79",
   "metadata": {
    "collapsed": false
   },
   "outputs": [],
   "source": [
    "import gc\n",
    "import os\n",
    "import time\n",
    "import random\n",
    "import argparse\n",
    "\n",
    "import wandb\n",
    "import torch\n",
    "import numpy as np\n",
    "import pandas as pd\n",
    "from torch.utils.data import DataLoader\n",
    "from peft import LoraConfig, get_peft_model, PeftModel, prepare_model_for_int8_training\n",
    "from transformers import (AutoTokenizer, AutoModelForSeq2SeqLM, Seq2SeqTrainingArguments, Seq2SeqTrainer,\n",
    "                          DataCollatorForSeq2Seq)\n",
    "\n",
    "from dataload_utils import load_full_dataset, load_dataset_task_prompt_mappings\n",
    "from src.utils import load_dataset_task_prompt_mappings\n",
    "\n",
    "module_dir = os.path.dirname(os.path.abspath(__file__))\n"
   ]
  },
  {
   "cell_type": "markdown",
   "id": "044c2aff",
   "metadata": {},
   "source": [
    "### Setup Arguments and Data"
   ]
  },
  {
   "cell_type": "markdown",
   "id": "a84d6532e4e9c2c8",
   "metadata": {
    "collapsed": false
   },
   "source": [
    " In the following code block, you are required to set up several key parameters that will define the behavior and environment of your fine-tuning process:\n",
    "\n",
    "1. **WandB Project Name (`WANDB_PROJECT_NAME`)**: This is the name of the project in Weights & Biases (WandB) where your training run will be logged. WandB is a tool that helps track experiments, visualize data, and share insights. By setting the project name here, you ensure that all the metrics, outputs, and logs from your training process are organized under a single project for easy access and comparison. Specify a meaningful name that reflects the nature of your training session or experiment.\n",
    "\n",
    "2. **Model Name (`MODEL_NAME`)**: Here, you select the size of FLAN model that you wish to fine-tune. This notebook was ran and tested on (`google/flan-t5-xl`), which we found to be the best trade-off between computational power required to run the model and the accuracy of predictions. Full list of models is available at : https://huggingface.co/docs/transformers/model_doc/flan-t5\n"
   ]
  },
  {
   "cell_type": "code",
   "execution_count": null,
   "id": "fdbbe44f31c3622e",
   "metadata": {
    "collapsed": false
   },
   "outputs": [],
   "source": [
    "# Specs WandB and Which Model you want to fine-tune\n",
    "WANDB_PROJECT_NAME = \"FLAN_template_1\"\n",
    "MODEL_NAME ='google/flan-t5-xl'"
   ]
  },
  {
   "cell_type": "markdown",
   "id": "ff25819d",
   "metadata": {},
   "source": [
    "In the next code block, you are required to set up various configuration variables that will dictate how the inference processes are executed. These variables are crucial as they define the nature of the task, the data, and the specific behaviors during the model's training and evaluation.\n",
    "\n",
    "1. **Task (`task`)**: Specify the type of task you want to run inference on. The task is represented by an integer, with each number corresponding to a different type of task (e.g., 1, 2, 3, etc.). You must select from the predefined choices, which are typically mapped to specific NLP tasks or scenarios.\n",
    "\n",
    "2. **Dataset (`dataset`)**: Choose the dataset on which you want to run inference. Like tasks, datasets are identified by integers, and each number corresponds to a different dataset. Ensure that the dataset selected is relevant to the task at hand.\n",
    "\n",
    "3. **Output Directory (`output_dir`)**: Define the path to the directory where you want to store the generated samples. This is where the output of your training and inference processes will be saved.\n",
    "\n",
    "4. **Random Seed (`seed`)**: Setting a random seed ensures that the results are reproducible. By using the same seed, you can achieve the same outcomes on repeated runs under identical conditions.\n",
    "\n",
    "5. **Data Directory (`data_dir`)**: Specify the path to the directory containing the datasets you plan to use for training and evaluation.\n",
    "\n",
    "6. **Label Usage (`not_use_full_labels`)**: This boolean variable determines whether to use the full label descriptions or abbreviated labels during training and inference. Setting it to `False` means full labels will be used.\n",
    "\n",
    "7. **Dataset-Task Mappings File Path (`dataset_task_mappings_fp`)**: Define the path to the file containing mappings between datasets and tasks. This file is crucial for ensuring the correct dataset is used for the specified task.\n",
    "\n",
    "9. **Number of Epochs (`n_epochs`)**: Specify the number of epochs for training the model. An epoch refers to one complete pass through the entire training dataset.\n",
    "\n",
    "10. **Maximum prompt length (`max_prompt_len`)**: The maximum length of prompt in tokens to be taken as input before truncating the input. Longer input sequences require more computational power to run, so the shortest sequence required to capture the text is recommended.\n",
    "\n",
    "11. **Batch size (`batch-size`)**: Number of observations used in each training and validation batch. Larger batch size requires more computational memory as one batch needs to fit on one machine, but makes learning more stable. We found that for FLAN-XL, batch size of 8 was possible by taking batch size of 4 and accumulating results of 2 batches (see  (`gradient_accumulation_steps`) below)\n",
    "\n",
    "12. **Gradient accumulation steps (`gradient_accumulation_steps`)**: In a case where gradient accumulation steps is larger than 1, instead of updating the gradient after each batch, the gradient is updated after the sum of _n_ batches. This allows to train a model to learn on a larger global batch (_batch size_ * _gradient accumulation steps_) than the one that is able to fit on one machine.\n",
    "\n",
    "**Customizing for Your Own Tasks:**\n",
    "If you plan to run a custom task or use a dataset that is not predefined, you will need to make modifications to the `utils_src` file. This file contains all mappings for different datasets and tasks. Adding your custom task or dataset involves defining the new task or dataset number and specifying its characteristics and mappings in the `utils_src` file. This ensures that your custom task or dataset integrates seamlessly with the existing framework for training and inference.\n"
   ]
  },
  {
   "cell_type": "code",
   "execution_count": null,
   "id": "0834ab85",
   "metadata": {},
   "outputs": [],
   "source": [
    "# Configuration Variables\n",
    "\n",
    "# Type of task to run inference on\n",
    "task = 1  # Choices: [1,2,3,4,5,6]\n",
    "\n",
    "# Dataset to run inference on\n",
    "dataset = 1  # Choices: [1, 2, 3, 4]\n",
    "\n",
    "# Size of the sample to generate\n",
    "sample_size = '250'  # Choices: ['50','100','250','500','1000','1500']\n",
    "\n",
    "# Path to the directory to store the generated samples\n",
    "output_dir = '../../data'\n",
    "\n",
    "# Random seed to use\n",
    "seed = 2019\n",
    "\n",
    "# Path to the directory containing the datasets\n",
    "data_dir = '../../data'\n",
    "\n",
    "# Whether to use the full label\n",
    "not_use_full_labels = False\n",
    "\n",
    "# Path to the dataset-task mappings file\n",
    "dataset_task_mappings_fp = os.path.normpath(os.path.join(module_dir, '..', 'dataset_task_mappings.csv'))\n",
    "\n",
    "#Maximum length of prompt to be taken by the model as input (check documentation for current maximum length)\n",
    "max_prompt_len = 4096\n",
    "\n",
    "#run name - Optional Argument if you want it to be called something else than the default way (defined below)\n",
    "run_name = \"\"\n",
    "\n",
    "#set True if wanting to run a few-shot prompt\n",
    "few_shot = False"
   ]
  },
  {
   "cell_type": "markdown",
   "id": "9eee2505",
   "metadata": {},
   "source": [
    "### Define Utility Functions"
   ]
  },
  {
   "cell_type": "code",
   "execution_count": null,
   "id": "bbe9d6e5",
   "metadata": {},
   "outputs": [],
   "source": [
    "def compute_metrics(eval_preds, tokenizer, metric):\n",
    "    logits, labels = eval_preds\n",
    "    if isinstance(logits, tuple):\n",
    "        logits = logits[0]\n",
    "    preds = np.argmax(logits, axis=-1)\n",
    "    decoded_preds = tokenizer.batch_decode(preds, skip_special_tokens=True)\n",
    "    # Replace -100 in the labels as we can't decode them.\n",
    "    labels = np.where(labels != -100, labels, tokenizer.pad_token_id)\n",
    "    decoded_labels = tokenizer.batch_decode(labels, skip_special_tokens=True)\n",
    "    result = metric.compute(predictions=decoded_preds, references=decoded_labels)\n",
    "    return result"
   ]
  },
  {
   "cell_type": "code",
   "execution_count": null,
   "id": "5f67074e",
   "metadata": {},
   "outputs": [],
   "source": [
    "def preprocess_function(tokenizer, prompt, df, label_column, max_length: int = 4096, padding: str | bool = False):\n",
    "    # first check that all inputs are part of a labelset\n",
    "    inputs = [prompt.format(text=text_i) for text_i in df[\"text\"]]\n",
    "    model_inputs = tokenizer(inputs, max_length=max_length, padding=padding, truncation=True)\n",
    "\n",
    "    labels = tokenizer(\n",
    "        text_target=df[label_column],\n",
    "        padding=padding,\n",
    "        max_length=max_length,\n",
    "        truncation=True,\n",
    "    )\n",
    "\n",
    "    labels[\"input_ids\"] = [\n",
    "        [(l if l != tokenizer.pad_token_id else -100) for l in label]\n",
    "        for label in labels[\"input_ids\"]\n",
    "    ]\n",
    "\n",
    "    model_inputs[\"labels\"] = labels[\"input_ids\"]\n",
    "\n",
    "    return model_inputs\n"
   ]
  },
  {
   "cell_type": "code",
   "execution_count": null,
   "id": "21e0a4b1",
   "metadata": {},
   "outputs": [],
   "source": [
    "def set_all_seeds(seed: int = 123):\n",
    "    # tf.random.set_seed(123)\n",
    "    torch.manual_seed(seed)\n",
    "    random.seed(seed)\n",
    "    np.random.seed(seed)\n",
    "    torch.cuda.manual_seed(seed)\n",
    "    torch.cuda.manual_seed_all(seed)\n",
    "\n",
    "    # When running on the CuDNN backend, two further options must be set\n",
    "    torch.backends.cudnn.deterministic = True\n",
    "    torch.backends.cudnn.benchmark = False\n",
    "\n",
    "    # Set a fixed value for the hash seed\n",
    "    os.environ[\"PYTHONHASHSEED\"] = str(seed)\n",
    "\n",
    "    # Set seed with the `transformers` library\n",
    "    # set_seed(seed)"
   ]
  },
  {
   "cell_type": "markdown",
   "id": "3984d6e1",
   "metadata": {},
   "source": [
    "## Main Implementation"
   ]
  },
  {
   "cell_type": "code",
   "execution_count": null,
   "id": "c54aafd7",
   "metadata": {},
   "outputs": [],
   "source": [
    "exp_name = run_name if run_name != '' else f'{MODEL_NAME}_ds_{dataset}_task_{int(task)}_sample_{sample_size}_'\n",
    "            f'epochs_{n_epochs}_prompt_max_len_{max_prompt_len}_'\n",
    "            f'batch_size_{batch_size}_grad_acc_{gradient_accumulation_steps}'\n",
    "\n",
    "if few_shot:\n",
    "    exp_name += '_few_shot'\n",
    "# Initialize the Weights and Biases run\n",
    "wandb.init(\n",
    "    # set the wandb project where this run will be logged\n",
    "    project=WANDB_PROJECT_NAME,\n",
    "    name=exp_name,\n",
    "    # track hyperparameters and run metadata\n",
    "    config={\n",
    "        \"model\": MODEL_NAME,\n",
    "        \"dataset\": dataset,\n",
    "        \"task\": task,\n",
    "        \"epochs\": n_epochs,\n",
    "        \"max_prompt_len\": max_prompt_len,\n",
    "        \"batch_size\": batch_size,\n",
    "        \"gradient_accumulation_steps\": gradient_accumulation_steps\n",
    "    }\n",
    ")\n",
    "\n",
    "print('Running exp:', exp_name)"
   ]
  },
  {
   "cell_type": "markdown",
   "id": "bfbbdca6",
   "metadata": {},
   "source": [
    "### Load Data and the prompt"
   ]
  },
  {
   "cell_type": "code",
   "execution_count": null,
   "id": "22685986",
   "metadata": {},
   "outputs": [],
   "source": [
    "prompt_col = 'few_shot_prompt' if few_shot else 'zero_shot_prompt'\n",
    "\n",
    "dataset_idx, dataset_task_mappings = load_dataset_task_prompt_mappings(\n",
    "    dataset_num=dataset, task_num=task, dataset_task_mappings_fp=dataset_task_mappings_fp)\n",
    "\n",
    "# Get information specific to the dataset and the prompt\n",
    "label_column = dataset_task_mappings.loc[dataset_idx, \"label_column\"]\n",
    "labelset = dataset_task_mappings.loc[dataset_idx, \"labelset\"].split(\",\")\n",
    "labelset = [label.strip() for label in labelset]\n",
    "prompt = dataset_task_mappings.loc[dataset_idx, prompt_col]\n",
    "\n",
    "datasets = load_full_dataset(\n",
    "        data_dir=data_dir, dataset_num=dataset, task_num=task,\n",
    "        label_column=label_column, labelset=labelset, full_label=False, sample_size=sample_size)\n",
    "\n",
    "# Log the system prompt and user_prompt_format as files in wandb\n",
    "prompts_artifact = wandb.Artifact('prompts', type='prompts')\n",
    "with prompts_artifact.new_file('prompt.txt', mode='w') as f:\n",
    "    f.write(prompt)\n",
    "wandb.run.log_artifact(prompts_artifact)"
   ]
  },
  {
   "cell_type": "markdown",
   "id": "ff697d92",
   "metadata": {},
   "source": [
    "### Define the model, tokenizers, data collator"
   ]
  },
  {
   "cell_type": "code",
   "execution_count": null,
   "id": "1be20018",
   "metadata": {},
   "outputs": [],
   "source": [
    "# load the tokenizer and the model\n",
    "tokenizer = AutoTokenizer.from_pretrained(MODEL_NAME, truncation_side=\"left\")\n",
    "model = AutoModelForSeq2SeqLM.from_pretrained(MODEL_NAME, load_in_8bit=True, device_map=\"auto\")\n",
    "\n",
    "# Preprocess training and validation sets\n",
    "unnecessary_cols = datasets['eval'].column_names\n",
    "\n",
    "tokenized_dataset = datasets.map(\n",
    "    lambda x:\n",
    "    preprocess_function(tokenizer, prompt=prompt, df=x, label_column=label_column,\n",
    "                        max_length=max_prompt_len, padding=False),\n",
    "    batched=True, remove_columns=unnecessary_cols)\n",
    "\n",
    "# We want to ignore tokenizer pad token in the loss\n",
    "label_pad_token_id = -100\n",
    "\n",
    "# Data collator\n",
    "data_collator = DataCollatorForSeq2Seq(\n",
    "    tokenizer,\n",
    "    model=model,\n",
    "    label_pad_token_id=label_pad_token_id,\n",
    "    pad_to_multiple_of=batch_size,\n",
    "    padding='longest'\n",
    ")"
   ]
  },
  {
   "cell_type": "markdown",
   "id": "f3a360a7",
   "metadata": {},
   "source": [
    "### Prepare the model for training"
   ]
  },
  {
   "cell_type": "code",
   "execution_count": null,
   "id": "f551fdf2",
   "metadata": {},
   "outputs": [],
   "source": [
    "# PeFT\n",
    "model = prepare_model_for_int8_training(model)\n",
    "lora_config = LoraConfig(\n",
    "    r=16, lora_alpha=32, target_modules=[\"q\", \"v\"], lora_dropout=0.05, bias=\"none\", task_type=\"SEQ_2_SEQ_LM\"\n",
    ")\n",
    "model = get_peft_model(model, lora_config)\n",
    "print_trainable_parameters(model)"
   ]
  },
  {
   "cell_type": "markdown",
   "id": "12b28214",
   "metadata": {},
   "source": [
    "### Evaluate the model"
   ]
  },
  {
   "cell_type": "code",
   "execution_count": null,
   "id": "a719abc4",
   "metadata": {},
   "outputs": [],
   "source": [
    "predictions_dir = os.path.join(output_dir, 'predictions', 'flan', MODEL_NAME.replace('/', '_'))\n",
    "os.makedirs(predictions_dir, exist_ok=True)\n",
    "\n",
    "dataloader = DataLoader(tokenized_dataset['eval'], batch_size=batch_size, collate_fn=data_collator)\n",
    "\n",
    "with torch.no_grad():\n",
    "    predictions_out = []\n",
    "    for i, batch in enumerate(dataloader):\n",
    "        outputs = model.generate(\n",
    "            batch['input_ids'].cuda(),\n",
    "        )\n",
    "\n",
    "        generated_text_minibatch = tokenizer.batch_decode(\n",
    "            outputs, skip_special_tokens=True, clean_up_tokenization_spaces=True\n",
    "        )\n",
    "\n",
    "        predictions_out += generated_text_minibatch\n",
    "\n",
    "        if i == 0:\n",
    "            print(\"Sample prediction: \")\n",
    "            print(predictions_out[0])\n",
    "\n",
    "eval_df = pd.read_csv(os.path.join(data_dir, f'ds_{dataset}__task_{task}_eval_set.csv'))\n",
    "\n",
    "eval_df['prediction'] = predictions_out\n",
    "print(eval_df.head())\n",
    "eval_df.to_csv(os.path.join(predictions_dir, f'{exp_name.replace(\"/\", \"_\")}.csv'))"
   ]
  },
  {
   "cell_type": "markdown",
   "id": "7bdbb095",
   "metadata": {},
   "source": [
    "### Terminate WandB"
   ]
  },
  {
   "cell_type": "code",
   "execution_count": null,
   "id": "33d3f653",
   "metadata": {},
   "outputs": [],
   "source": [
    "wandb.finish()"
   ]
  }
 ],
 "metadata": {
  "kernelspec": {
   "display_name": "Python 3",
   "language": "python",
   "name": "python3"
  },
  "language_info": {
   "codemirror_mode": {
    "name": "ipython",
    "version": 2
   },
   "file_extension": ".py",
   "mimetype": "text/x-python",
   "name": "python",
   "nbconvert_exporter": "python",
   "pygments_lexer": "ipython2",
   "version": "2.7.6"
  }
 },
 "nbformat": 4,
 "nbformat_minor": 5
}
